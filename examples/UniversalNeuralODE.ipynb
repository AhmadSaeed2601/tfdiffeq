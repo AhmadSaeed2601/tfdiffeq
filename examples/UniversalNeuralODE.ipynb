{
  "nbformat": 4,
  "nbformat_minor": 0,
  "metadata": {
    "colab": {
      "name": "UniversalNeuralODE v2.ipynb",
      "provenance": [],
      "collapsed_sections": [],
      "toc_visible": true
    },
    "kernelspec": {
      "name": "python3",
      "display_name": "Python 3"
    }
  },
  "cells": [
    {
      "cell_type": "code",
      "metadata": {
        "id": "Cg_WvHaHeHBw",
        "colab_type": "code",
        "colab": {}
      },
      "source": [
        "%matplotlib inline\n",
        "import numpy as np\n",
        "import matplotlib.pyplot as plt\n",
        "plt.style.use('seaborn-paper')"
      ],
      "execution_count": 0,
      "outputs": []
    },
    {
      "cell_type": "code",
      "metadata": {
        "id": "7Al8ZRF5emic",
        "colab_type": "code",
        "colab": {}
      },
      "source": [
        "%tensorflow_version 2.x"
      ],
      "execution_count": 0,
      "outputs": []
    },
    {
      "cell_type": "code",
      "metadata": {
        "id": "GMof13ePeZNp",
        "colab_type": "code",
        "outputId": "da480274-d636-444f-84da-bbe4b576897a",
        "colab": {
          "base_uri": "https://localhost:8080/",
          "height": 34
        }
      },
      "source": [
        "import tensorflow as tf\n",
        "tf.__version__"
      ],
      "execution_count": 3,
      "outputs": [
        {
          "output_type": "execute_result",
          "data": {
            "text/plain": [
              "'2.2.0-rc2'"
            ]
          },
          "metadata": {
            "tags": []
          },
          "execution_count": 3
        }
      ]
    },
    {
      "cell_type": "code",
      "metadata": {
        "id": "viPToQkOecMI",
        "colab_type": "code",
        "outputId": "0e324ef7-b66d-40bf-88c7-68fe4e19fe43",
        "colab": {
          "base_uri": "https://localhost:8080/",
          "height": 356
        }
      },
      "source": [
        "!pip install --upgrade git+https://github.com/titu1994/tfdiffeq.git "
      ],
      "execution_count": 4,
      "outputs": [
        {
          "output_type": "stream",
          "text": [
            "Collecting git+https://github.com/titu1994/tfdiffeq.git\n",
            "  Cloning https://github.com/titu1994/tfdiffeq.git to /tmp/pip-req-build-eari68zl\n",
            "  Running command git clone -q https://github.com/titu1994/tfdiffeq.git /tmp/pip-req-build-eari68zl\n",
            "Requirement already satisfied, skipping upgrade: numpy>=1.16.2 in /usr/local/lib/python3.6/dist-packages (from tfdiffeq==0.0.1) (1.18.2)\n",
            "Requirement already satisfied, skipping upgrade: scipy>=1.1.0 in /usr/local/lib/python3.6/dist-packages (from tfdiffeq==0.0.1) (1.4.1)\n",
            "Requirement already satisfied, skipping upgrade: six>=1.11.0 in /usr/local/lib/python3.6/dist-packages (from tfdiffeq==0.0.1) (1.12.0)\n",
            "Requirement already satisfied, skipping upgrade: matplotlib>=3.0.0 in /usr/local/lib/python3.6/dist-packages (from tfdiffeq==0.0.1) (3.2.1)\n",
            "Requirement already satisfied, skipping upgrade: kiwisolver>=1.0.1 in /usr/local/lib/python3.6/dist-packages (from matplotlib>=3.0.0->tfdiffeq==0.0.1) (1.1.0)\n",
            "Requirement already satisfied, skipping upgrade: cycler>=0.10 in /usr/local/lib/python3.6/dist-packages (from matplotlib>=3.0.0->tfdiffeq==0.0.1) (0.10.0)\n",
            "Requirement already satisfied, skipping upgrade: pyparsing!=2.0.4,!=2.1.2,!=2.1.6,>=2.0.1 in /usr/local/lib/python3.6/dist-packages (from matplotlib>=3.0.0->tfdiffeq==0.0.1) (2.4.6)\n",
            "Requirement already satisfied, skipping upgrade: python-dateutil>=2.1 in /usr/local/lib/python3.6/dist-packages (from matplotlib>=3.0.0->tfdiffeq==0.0.1) (2.8.1)\n",
            "Requirement already satisfied, skipping upgrade: setuptools in /usr/local/lib/python3.6/dist-packages (from kiwisolver>=1.0.1->matplotlib>=3.0.0->tfdiffeq==0.0.1) (46.0.0)\n",
            "Building wheels for collected packages: tfdiffeq\n",
            "  Building wheel for tfdiffeq (setup.py) ... \u001b[?25l\u001b[?25hdone\n",
            "  Created wheel for tfdiffeq: filename=tfdiffeq-0.0.1-py2.py3-none-any.whl size=45904 sha256=e3ac04f3e21e9ff534a329a36bb2cd401290fe7f12fc694170854c0242286d21\n",
            "  Stored in directory: /tmp/pip-ephem-wheel-cache-qfk2zu25/wheels/1a/fc/26/608bd5ecbf21d23b0e87bb71814d3c031b7c8a5b37fa7aa904\n",
            "Successfully built tfdiffeq\n",
            "Installing collected packages: tfdiffeq\n",
            "Successfully installed tfdiffeq-0.0.1\n"
          ],
          "name": "stdout"
        }
      ]
    },
    {
      "cell_type": "code",
      "metadata": {
        "id": "ZKY7P0zNe3kS",
        "colab_type": "code",
        "outputId": "b340b8d9-f4f5-41ac-efaf-b719a5e087fb",
        "colab": {
          "base_uri": "https://localhost:8080/",
          "height": 171
        }
      },
      "source": [
        "!pip install pysindy"
      ],
      "execution_count": 5,
      "outputs": [
        {
          "output_type": "stream",
          "text": [
            "Collecting pysindy\n",
            "  Downloading https://files.pythonhosted.org/packages/3f/95/b75f5f8ecfe342c7931fec84a332dd39c0e5567c3b78fd069b3c2250c6df/pysindy-0.13.0-py3-none-any.whl\n",
            "Requirement already satisfied: scikit-learn[alldeps]>=0.21 in /usr/local/lib/python3.6/dist-packages (from pysindy) (0.22.2.post1)\n",
            "Requirement already satisfied: scipy in /usr/local/lib/python3.6/dist-packages (from pysindy) (1.4.1)\n",
            "Requirement already satisfied: numpy in /usr/local/lib/python3.6/dist-packages (from pysindy) (1.18.2)\n",
            "Requirement already satisfied: joblib>=0.11 in /usr/local/lib/python3.6/dist-packages (from scikit-learn[alldeps]>=0.21->pysindy) (0.14.1)\n",
            "Installing collected packages: pysindy\n",
            "Successfully installed pysindy-0.13.0\n"
          ],
          "name": "stdout"
        }
      ]
    },
    {
      "cell_type": "code",
      "metadata": {
        "id": "v63jc-GhtQQ_",
        "colab_type": "code",
        "colab": {
          "base_uri": "https://localhost:8080/",
          "height": 118
        },
        "outputId": "eb4b765b-b134-4766-8e77-120e6009aa79"
      },
      "source": [
        "!pip install tensorflow_probability"
      ],
      "execution_count": 6,
      "outputs": [
        {
          "output_type": "stream",
          "text": [
            "Requirement already satisfied: tensorflow_probability in /usr/local/lib/python3.6/dist-packages (0.9.0)\n",
            "Requirement already satisfied: decorator in /usr/local/lib/python3.6/dist-packages (from tensorflow_probability) (4.4.2)\n",
            "Requirement already satisfied: gast>=0.2 in /usr/local/lib/python3.6/dist-packages (from tensorflow_probability) (0.3.3)\n",
            "Requirement already satisfied: six>=1.10.0 in /usr/local/lib/python3.6/dist-packages (from tensorflow_probability) (1.12.0)\n",
            "Requirement already satisfied: cloudpickle>=1.2.2 in /usr/local/lib/python3.6/dist-packages (from tensorflow_probability) (1.3.0)\n",
            "Requirement already satisfied: numpy>=1.13.3 in /usr/local/lib/python3.6/dist-packages (from tensorflow_probability) (1.18.2)\n"
          ],
          "name": "stdout"
        }
      ]
    },
    {
      "cell_type": "code",
      "metadata": {
        "id": "SpWRNYqbLMtW",
        "colab_type": "code",
        "outputId": "71789686-1465-4dee-8279-2a8a1c12c176",
        "colab": {
          "base_uri": "https://localhost:8080/",
          "height": 202
        }
      },
      "source": [
        "!wget https://raw.githubusercontent.com/titu1994/keras_novograd/master/tf_novograd.py"
      ],
      "execution_count": 7,
      "outputs": [
        {
          "output_type": "stream",
          "text": [
            "--2020-04-05 03:41:50--  https://raw.githubusercontent.com/titu1994/keras_novograd/master/tf_novograd.py\n",
            "Resolving raw.githubusercontent.com (raw.githubusercontent.com)... 151.101.0.133, 151.101.64.133, 151.101.128.133, ...\n",
            "Connecting to raw.githubusercontent.com (raw.githubusercontent.com)|151.101.0.133|:443... connected.\n",
            "HTTP request sent, awaiting response... 200 OK\n",
            "Length: 6082 (5.9K) [text/plain]\n",
            "Saving to: ‘tf_novograd.py’\n",
            "\n",
            "\rtf_novograd.py        0%[                    ]       0  --.-KB/s               \rtf_novograd.py      100%[===================>]   5.94K  --.-KB/s    in 0s      \n",
            "\n",
            "2020-04-05 03:41:50 (65.6 MB/s) - ‘tf_novograd.py’ saved [6082/6082]\n",
            "\n"
          ],
          "name": "stdout"
        }
      ]
    },
    {
      "cell_type": "code",
      "metadata": {
        "id": "c4gIdM-LLDMm",
        "colab_type": "code",
        "colab": {}
      },
      "source": [
        "%load_ext autoreload\n",
        "%autoreload 2"
      ],
      "execution_count": 0,
      "outputs": []
    },
    {
      "cell_type": "code",
      "metadata": {
        "id": "YwKnjxGne9mW",
        "colab_type": "code",
        "colab": {}
      },
      "source": [
        "from tfdiffeq import odeint\n",
        "from tfdiffeq import plot_phase_portrait, plot_vector_field, plot_results\n",
        "from tfdiffeq.sindy_utils import STRRidge"
      ],
      "execution_count": 0,
      "outputs": []
    },
    {
      "cell_type": "code",
      "metadata": {
        "id": "LwQADB0qLR_4",
        "colab_type": "code",
        "colab": {}
      },
      "source": [
        "from tf_novograd import NovoGrad"
      ],
      "execution_count": 0,
      "outputs": []
    },
    {
      "cell_type": "code",
      "metadata": {
        "id": "rOVfrbuZfugq",
        "colab_type": "code",
        "colab": {}
      },
      "source": [
        "NUM_SAMPLES = 1000\n",
        "device = 'cpu:0' # These experiments do not require the GPU. Normally, 'gpu:0' if tf.test.is_gpu_available() else 'cpu:0' should be used.\n",
        "\n",
        "# Force Float 64\n",
        "tf.keras.backend.set_floatx('float64')"
      ],
      "execution_count": 0,
      "outputs": []
    },
    {
      "cell_type": "code",
      "metadata": {
        "id": "Q3TBRZCPfXHE",
        "colab_type": "code",
        "colab": {}
      },
      "source": [
        "class LotkaVoltera(tf.keras.Model):\n",
        "  \n",
        "  def __init__(self, a, b, c, d, **kwargs):\n",
        "    super().__init__(**kwargs)\n",
        "    \n",
        "    self.a, self.b, self.c, self.d = a, b, c, d\n",
        "  \n",
        "  @tf.function\n",
        "  def call(self, t, y):\n",
        "    # y = [R, F]\n",
        "    r, f = tf.unstack(y)\n",
        "    \n",
        "    dR_dT = self.a * r - self.b * r * f\n",
        "    dF_dT = -self.c * f + self.d * r * f\n",
        "    \n",
        "    return tf.stack([dR_dT, dF_dT])"
      ],
      "execution_count": 0,
      "outputs": []
    },
    {
      "cell_type": "code",
      "metadata": {
        "id": "EJKyjYl4fn6n",
        "colab_type": "code",
        "colab": {}
      },
      "source": [
        "t = tf.linspace(0., 10., num=NUM_SAMPLES)\n",
        "initial_states = tf.convert_to_tensor([1, 1], dtype=tf.float64)\n",
        "\n",
        "a = 1.5\n",
        "b = 1\n",
        "c = 3\n",
        "d = 1"
      ],
      "execution_count": 0,
      "outputs": []
    },
    {
      "cell_type": "code",
      "metadata": {
        "id": "BmPPnn1Qfpwg",
        "colab_type": "code",
        "outputId": "267f0825-7905-4e08-a94a-6caf7fb728b1",
        "colab": {
          "base_uri": "https://localhost:8080/",
          "height": 67
        }
      },
      "source": [
        "%%time\n",
        "\n",
        "with tf.device(device):\n",
        "  result = odeint(LotkaVoltera(a, b, c, d), initial_states, t)\n",
        "  \n",
        "print(\"Finished integrating ! Result shape : \", result.shape)"
      ],
      "execution_count": 14,
      "outputs": [
        {
          "output_type": "stream",
          "text": [
            "Finished integrating ! Result shape :  (1000, 2)\n",
            "CPU times: user 2.36 s, sys: 44.4 ms, total: 2.41 s\n",
            "Wall time: 2.55 s\n"
          ],
          "name": "stdout"
        }
      ]
    },
    {
      "cell_type": "code",
      "metadata": {
        "id": "xye3D3C7f5Zu",
        "colab_type": "code",
        "outputId": "01ce4c3f-14aa-4802-809e-352f7744fe80",
        "colab": {
          "base_uri": "https://localhost:8080/",
          "height": 301
        }
      },
      "source": [
        "lims = [0, 5]\n",
        "plot_phase_portrait(LotkaVoltera(a, b, c, d), xlabel='Rabbit', ylabel='Wolf', xlims=[0, 7], ylims=lims)\n",
        "plot_vector_field(result, xlabel='Rabbit', ylabel='Wolf')"
      ],
      "execution_count": 15,
      "outputs": [
        {
          "output_type": "display_data",
          "data": {
            "image/png": "[encoded data removed]",
            "text/plain": [
              "<Figure size 460.8x316.8 with 1 Axes>"
            ]
          },
          "metadata": {
            "tags": []
          }
        }
      ]
    },
    {
      "cell_type": "code",
      "metadata": {
        "id": "b1MBr-rVgL-W",
        "colab_type": "code",
        "outputId": "8d0ad67b-e280-421c-cb8e-455a30dc1ccc",
        "colab": {
          "base_uri": "https://localhost:8080/",
          "height": 288
        }
      },
      "source": [
        "plot_results(t, result, labels=['Rabbit', 'Fox'])"
      ],
      "execution_count": 16,
      "outputs": [
        {
          "output_type": "display_data",
          "data": {
            "image/png": "[encoded data removed]",
            "text/plain": [
              "<Figure size 460.8x316.8 with 1 Axes>"
            ]
          },
          "metadata": {
            "tags": []
          }
        }
      ]
    },
    {
      "cell_type": "markdown",
      "metadata": {
        "id": "5IBlcslbgr3x",
        "colab_type": "text"
      },
      "source": [
        "# Now lets try to reconstruct the equations with NNs"
      ]
    },
    {
      "cell_type": "code",
      "metadata": {
        "id": "0KVE3OQpgtE8",
        "colab_type": "code",
        "colab": {}
      },
      "source": [
        "class LotkaVolteraTrainable(tf.keras.Model):\n",
        "  \n",
        "  def __init__(self, a, b, c, d, **kwargs):\n",
        "    super().__init__(**kwargs)\n",
        "    \n",
        "    self.a, self.c = a, c\n",
        "\n",
        "    self.eqn = tf.keras.Sequential([\n",
        "             tf.keras.layers.Dense(32, activation=tf.nn.swish, input_shape=(2,)),\n",
        "             tf.keras.layers.Dense(32, activation=tf.nn.swish,),\n",
        "             tf.keras.layers.Dense(32, activation=tf.nn.swish),\n",
        "             tf.keras.layers.Dense(2, activation='relu',)   \n",
        "    ])\n",
        "  \n",
        "  @tf.function\n",
        "  def call(self, t, y):\n",
        "    # y = [R, F]\n",
        "    r, f = tf.unstack(y)\n",
        "\n",
        "    # Neural ODE component\n",
        "    n_out = self.eqn(tf.reshape(y, [1, 2]))  # [1, 2] -> [1, 2]\n",
        "    pred1 = n_out[0, 0]\n",
        "    pred2 = n_out[0, 1]\n",
        "    \n",
        "    dR_dT = self.a * r - pred1\n",
        "    dF_dT = -self.c * f + pred2\n",
        "    \n",
        "    return tf.stack([dR_dT, dF_dT])"
      ],
      "execution_count": 0,
      "outputs": []
    },
    {
      "cell_type": "code",
      "metadata": {
        "id": "0c_4_YNJk4jr",
        "colab_type": "code",
        "colab": {}
      },
      "source": [
        "t_train = tf.linspace(0., 2., num=30)  # Train for just 3 seconds of input\n",
        "initial_states_train = tf.convert_to_tensor([1, 1], dtype=tf.float64)\n",
        "\n",
        "a = 1.5\n",
        "b = 1\n",
        "c = 3\n",
        "d = 1\n",
        "\n",
        "epochs = 100\n",
        "initial_learning_rate = 0.01\n",
        "decay_steps = 100\n",
        "decay_rate = 0.5"
      ],
      "execution_count": 0,
      "outputs": []
    },
    {
      "cell_type": "markdown",
      "metadata": {
        "id": "tvh4VR74MI-_",
        "colab_type": "text"
      },
      "source": [
        "# Train a model\n",
        "\n",
        "We pretrain the model for a few epochs to reduce the loss quickly, and then retrain the model using BFGS to get the loss required to a small enough tolerance."
      ]
    },
    {
      "cell_type": "code",
      "metadata": {
        "id": "yfAKw4zZl_sm",
        "colab_type": "code",
        "colab": {}
      },
      "source": [
        "%%time\n",
        "\n",
        "with tf.device(device):\n",
        "  model = LotkaVolteraTrainable(a, b, c, d)\n",
        "\n",
        "  learning_rate = tf.keras.optimizers.schedules.ExponentialDecay(\n",
        "    initial_learning_rate, decay_steps, decay_rate, staircase=False,\n",
        "  )\n",
        "\n",
        "  optimizer = tf.keras.optimizers.Adam(learning_rate)\n",
        "\n",
        "  print(\"Computing ground truth...\")\n",
        "  y_real = odeint(LotkaVoltera(a, b, c, d), initial_states_train, t_train)\n",
        "\n",
        "  print(\"Ground truth shape :\", y_real.shape)\n",
        "\n",
        "  for epoch in range(epochs):\n",
        "    print(f\"Epoch {epoch + 1}\")\n",
        "\n",
        "    with tf.GradientTape() as tape:\n",
        "      preds = odeint(model, initial_states_train, t_train)\n",
        "      loss = tf.reduce_mean(tf.square(y_real - preds), axis=1)\n",
        "\n",
        "    grads = tape.gradient(loss, model.trainable_variables)\n",
        "    optimizer.apply_gradients(zip(grads, model.trainable_variables))\n",
        "\n",
        "    print(\"Loss :\", loss.numpy().mean())\n",
        "    print(\"LR :\", learning_rate(optimizer.iterations).numpy())\n",
        "    print()"
      ],
      "execution_count": 0,
      "outputs": []
    },
    {
      "cell_type": "code",
      "metadata": {
        "id": "WLUK0cMat9fv",
        "colab_type": "code",
        "colab": {}
      },
      "source": [
        "model.save_weights('model_weights/ckpt', save_format='tf')"
      ],
      "execution_count": 0,
      "outputs": []
    },
    {
      "cell_type": "code",
      "metadata": {
        "id": "nL0hVP91vsSE",
        "colab_type": "code",
        "colab": {
          "base_uri": "https://localhost:8080/",
          "height": 34
        },
        "outputId": "0563d8a4-4d16-464e-b4a1-894de9a11bcf"
      },
      "source": [
        "model.load_weights('model_weights/ckpt')"
      ],
      "execution_count": 24,
      "outputs": [
        {
          "output_type": "execute_result",
          "data": {
            "text/plain": [
              "<tensorflow.python.training.tracking.util.CheckpointLoadStatus at 0x7fccbcc922e8>"
            ]
          },
          "metadata": {
            "tags": []
          },
          "execution_count": 24
        }
      ]
    },
    {
      "cell_type": "markdown",
      "metadata": {
        "id": "u3ZO0Qgut4cu",
        "colab_type": "text"
      },
      "source": [
        "## Finetune the model with BFGS"
      ]
    },
    {
      "cell_type": "code",
      "metadata": {
        "id": "SdgoZlE9t3zn",
        "colab_type": "code",
        "colab": {}
      },
      "source": [
        "from tfdiffeq.bfgs_optimizer import BFGSOptimizer"
      ],
      "execution_count": 0,
      "outputs": []
    },
    {
      "cell_type": "code",
      "metadata": {
        "id": "i3MSoP2Xt34c",
        "colab_type": "code",
        "colab": {}
      },
      "source": [
        "tolerance = 1e-6\n",
        "bfgs_optimizer = BFGSOptimizer(max_iterations=50, tolerance=tolerance)"
      ],
      "execution_count": 0,
      "outputs": []
    },
    {
      "cell_type": "markdown",
      "metadata": {
        "id": "S3BYQj7ouXsp",
        "colab_type": "text"
      },
      "source": [
        "### Create a wrapper function for the BFGS optimizer \n",
        "\n",
        "```python\n",
        "loss_value = loss(model)\n",
        "```"
      ]
    },
    {
      "cell_type": "code",
      "metadata": {
        "id": "95K2-Z5YuE2-",
        "colab_type": "code",
        "colab": {}
      },
      "source": [
        "from tfdiffeq.odeint import odeint as adjoint_odeint\n",
        "\n",
        "def loss_wrapper(model):\n",
        "  # Can use `adjoing_odeint` here as replacement for `adjoint_odeint`\n",
        "  preds = odeint(model, initial_states_train, t_train, atol=1e-6, rtol=1e-6)\n",
        "  loss = tf.reduce_mean(tf.square(y_real - preds))\n",
        "  return loss"
      ],
      "execution_count": 0,
      "outputs": []
    },
    {
      "cell_type": "code",
      "metadata": {
        "id": "I2_0WaHnuE5O",
        "colab_type": "code",
        "colab": {
          "base_uri": "https://localhost:8080/",
          "height": 1000
        },
        "outputId": "6d753bf4-5ab7-4781-be88-a7e061962c09"
      },
      "source": [
        "model = bfgs_optimizer.minimize(loss_wrapper, model)"
      ],
      "execution_count": 28,
      "outputs": [
        {
          "output_type": "stream",
          "text": [
            "Iter: 1 loss: 0.043752704723370416\n",
            "Iter: 2 loss: 0.063939509615659168\n",
            "Iter: 3 loss: 0.043699222165009127\n",
            "Iter: 4 loss: 0.042009402347811711\n",
            "Iter: 5 loss: 0.060428605818190741\n",
            "Iter: 6 loss: 0.041830614152760917\n",
            "Iter: 7 loss: 0.039418305382558173\n",
            "Iter: 8 loss: 0.09913622429793\n",
            "Iter: 9 loss: 0.039379933146001814\n",
            "Iter: 10 loss: 0.035169604585747985\n",
            "Iter: 11 loss: 0.041460106609949879\n",
            "Iter: 12 loss: 0.032218342482224306\n",
            "Iter: 13 loss: 0.031504040130539368\n",
            "Iter: 14 loss: 0.027351652427859637\n",
            "Iter: 15 loss: 0.031000477579940146\n",
            "Iter: 16 loss: 0.023485710055288874\n",
            "Iter: 17 loss: 0.031362694148225075\n",
            "Iter: 18 loss: 0.019540665265762886\n",
            "Iter: 19 loss: 0.1027101223077542\n",
            "Iter: 20 loss: 0.018048981285561212\n",
            "Iter: 21 loss: 0.10024326476280429\n",
            "Iter: 22 loss: 0.016601175621587225\n",
            "Iter: 23 loss: 0.19195786706782489\n",
            "Iter: 24 loss: 0.016145005852804813\n",
            "Iter: 25 loss: 0.018437527762761405\n",
            "Iter: 26 loss: 0.014667852002545469\n",
            "Iter: 27 loss: 0.016727470249943328\n",
            "Iter: 28 loss: 0.013672558287561339\n",
            "Iter: 29 loss: 0.014709595627291164\n",
            "Iter: 30 loss: 0.012754510162073423\n",
            "Iter: 31 loss: 0.013860316533705579\n",
            "Iter: 32 loss: 0.012213028769519825\n",
            "Iter: 33 loss: 0.01070230024493732\n",
            "Iter: 34 loss: 0.018558001578164594\n",
            "Iter: 35 loss: 0.010471157240983102\n",
            "Iter: 36 loss: 0.0059803160814280295\n",
            "Iter: 37 loss: 0.13590322379013792\n",
            "Iter: 38 loss: 0.0058365400412753749\n",
            "Iter: 39 loss: 0.0023746918925029374\n",
            "Iter: 40 loss: 0.0016665420380026813\n",
            "Iter: 41 loss: 0.0015099683618920294\n",
            "Iter: 42 loss: 0.0012346593836164085\n",
            "Iter: 43 loss: 0.0013184317235711502\n",
            "Iter: 44 loss: 0.0011575186805556344\n",
            "Iter: 45 loss: 0.0011591937467524036\n",
            "Iter: 46 loss: 0.0010775870750898463\n",
            "Iter: 47 loss: 0.00099571161559688665\n",
            "Iter: 48 loss: 0.0014051340919074974\n",
            "Iter: 49 loss: 0.000978075580783647\n",
            "Iter: 50 loss: 0.00092089667908106681\n",
            "Iter: 51 loss: 0.0015175210386964622\n",
            "Iter: 52 loss: 0.00091934252875585385\n",
            "Iter: 53 loss: 0.00088727089751449416\n",
            "Iter: 54 loss: 0.00079558668362328161\n",
            "Iter: 55 loss: 0.0010928499065442875\n",
            "Iter: 56 loss: 0.0007504142638267877\n",
            "Iter: 57 loss: 0.00061469867291412178\n",
            "Iter: 58 loss: 0.00060673149244062344\n",
            "Iter: 59 loss: 0.00044984755458349405\n",
            "Iter: 60 loss: 0.00043250055213671579\n",
            "Iter: 61 loss: 0.00035451192572804441\n",
            "Iter: 62 loss: 0.00031793621921335076\n",
            "Iter: 63 loss: 0.00025950234987621979\n",
            "Iter: 64 loss: 0.00058316186049668618\n",
            "Iter: 65 loss: 0.0002415673585736551\n",
            "Iter: 66 loss: 0.00016305576748533695\n",
            "Iter: 67 loss: 0.00068403628555587035\n",
            "Iter: 68 loss: 0.00014724812802297907\n",
            "Iter: 69 loss: 0.00010624015023309219\n",
            "Iter: 70 loss: 0.00042333572097054916\n",
            "Iter: 71 loss: 0.00010625876623023711\n",
            "Iter: 72 loss: 0.00010000281083393982\n",
            "Iter: 73 loss: 9.12794741248538e-05\n",
            "Iter: 74 loss: 8.92952912904116e-05\n",
            "Iter: 75 loss: 8.4335538158309052e-05\n",
            "Iter: 76 loss: 8.07866138980275e-05\n",
            "Iter: 77 loss: 0.00017513400966772067\n",
            "Iter: 78 loss: 8.0763823342300424e-05\n",
            "Iter: 79 loss: 7.6900200701872181e-05\n",
            "Iter: 80 loss: 0.00010371031581543318\n",
            "Iter: 81 loss: 7.6680058568087979e-05\n",
            "Iter: 82 loss: 7.4822448635111845e-05\n",
            "Iter: 83 loss: 8.3765014715870377e-05\n",
            "Iter: 84 loss: 7.4262409280852578e-05\n",
            "Iter: 85 loss: 7.2120076950461283e-05\n",
            "Iter: 86 loss: 7.0356176799832711e-05\n",
            "Iter: 87 loss: 6.9612648281481472e-05\n",
            "Iter: 88 loss: 6.3766913437756924e-05\n",
            "Iter: 89 loss: 5.8123555273775906e-05\n",
            "Iter: 90 loss: 5.7613693962153088e-05\n",
            "Iter: 91 loss: 0.00012743395182957676\n",
            "Iter: 92 loss: 5.365914816343002e-05\n",
            "Iter: 93 loss: 4.918063338013759e-05\n",
            "Iter: 94 loss: 4.7256213822095754e-05\n",
            "Iter: 95 loss: 7.1681959882168426e-05\n",
            "Iter: 96 loss: 4.4505040599960353e-05\n",
            "Iter: 97 loss: 3.16715177973603e-05\n",
            "Iter: 98 loss: 0.00037273508351611906\n",
            "Iter: 99 loss: 3.1356337725541193e-05\n",
            "Iter: 100 loss: 1.98403945649827e-05\n",
            "Iter: 101 loss: 8.3831525878200446e-05\n",
            "Iter: 102 loss: 1.84855741209882e-05\n",
            "Iter: 103 loss: 1.2160738384755939e-05\n",
            "Iter: 104 loss: 0.00013401905969259798\n",
            "Iter: 105 loss: 1.2010418705536571e-05\n",
            "Iter: 106 loss: 7.9245731641375141e-06\n",
            "Iter: 107 loss: 5.8905077435970958e-05\n",
            "Iter: 108 loss: 7.7197648344390565e-06\n",
            "Iter: 109 loss: 7.2784067916538876e-06\n",
            "Iter: 110 loss: 7.2778160855794974e-06\n",
            "Iter: 111 loss: 7.2227206769276912e-06\n",
            "Iter: 112 loss: 7.2108910044749278e-06\n",
            "Iter: 113 loss: 7.1823326855242267e-06\n",
            "Iter: 114 loss: 7.1976164299289577e-06\n",
            "Iter: 115 loss: 7.1634622180883617e-06\n",
            "Iter: 116 loss: 7.1290142355533089e-06\n",
            "Iter: 117 loss: 7.0849046544160345e-06\n",
            "Iter: 118 loss: 7.0815981003126487e-06\n",
            "Iter: 119 loss: 7.0310121385462074e-06\n",
            "Iter: 120 loss: 6.944810992923797e-06\n",
            "Iter: 121 loss: 6.9446545350159934e-06\n",
            "Iter: 122 loss: 6.7674921123830319e-06\n",
            "Iter: 123 loss: 6.1854455345438666e-06\n",
            "Iter: 124 loss: 7.3646062673473908e-06\n",
            "Iter: 125 loss: 5.7335795906057187e-06\n",
            "Iter: 126 loss: 4.8188711906776734e-06\n",
            "Iter: 127 loss: 1.9397548354905941e-05\n",
            "Iter: 128 loss: 4.7267837868787667e-06\n",
            "Iter: 129 loss: 3.7939284389899696e-06\n",
            "Iter: 130 loss: 1.2198044986048817e-05\n",
            "Iter: 131 loss: 3.7345700148882238e-06\n",
            "Iter: 132 loss: 3.5502554897601917e-06\n",
            "Iter: 133 loss: 3.961276149669767e-06\n",
            "Iter: 134 loss: 3.4929015014832356e-06\n"
          ],
          "name": "stdout"
        }
      ]
    },
    {
      "cell_type": "markdown",
      "metadata": {
        "id": "Fi3nrE1bOiEx",
        "colab_type": "text"
      },
      "source": [
        "# Save your weights and download them !"
      ]
    },
    {
      "cell_type": "code",
      "metadata": {
        "id": "Eu2-OtuGEy1w",
        "colab_type": "code",
        "colab": {}
      },
      "source": [
        "model.save_weights('model_weights/ckpt', save_format='tf')"
      ],
      "execution_count": 0,
      "outputs": []
    },
    {
      "cell_type": "markdown",
      "metadata": {
        "id": "MouCNTbKOmPe",
        "colab_type": "text"
      },
      "source": [
        "# Load a new model and load these weights (if you didnt train above)"
      ]
    },
    {
      "cell_type": "code",
      "metadata": {
        "id": "2QvMCjNKT421",
        "colab_type": "code",
        "colab": {}
      },
      "source": [
        "import os\n",
        "import requests\n",
        "\n",
        "def get_checkpoints():\n",
        "  if not os.path.exists('model_weights'):\n",
        "      os.makedirs('model_weights')\n",
        "\n",
        "  r = requests.get('https://github.com/titu1994/tfdiffeq/releases/download/v0.0.1-pre0/checkpoint')\n",
        "  with open('./model_weights/checkpoint', 'wb') as f:\n",
        "    f.write(r.content)\n",
        "\n",
        "  r = requests.get('https://github.com/titu1994/tfdiffeq/releases/download/v0.0.1-pre0/ckpt.data-00000-of-00001')\n",
        "  with open('./model_weights/ckpt.data-00000-of-00001', 'wb') as f:\n",
        "    f.write(r.content)\n",
        "\n",
        "  r = requests.get('https://github.com/titu1994/tfdiffeq/releases/download/v0.0.1-pre0/ckpt.index')\n",
        "  with open('./model_weights/ckpt.index', 'wb') as f:\n",
        "    f.write(r.content)\n",
        "  \n",
        "  print(\"Pretrained checkpoints retrieved !\")"
      ],
      "execution_count": 0,
      "outputs": []
    },
    {
      "cell_type": "code",
      "metadata": {
        "id": "29RtKGxoV01d",
        "colab_type": "code",
        "outputId": "d3fad9e7-d667-466f-c349-23fbe423a34d",
        "colab": {
          "base_uri": "https://localhost:8080/",
          "height": 33
        }
      },
      "source": [
        "get_checkpoints()"
      ],
      "execution_count": 0,
      "outputs": [
        {
          "output_type": "stream",
          "text": [
            "Pretrained checkpoints retrieved !\n"
          ],
          "name": "stdout"
        }
      ]
    },
    {
      "cell_type": "code",
      "metadata": {
        "id": "D-_0raHnGdzd",
        "colab_type": "code",
        "outputId": "7669e888-a7b1-45a2-e3d5-a7004cf1805c",
        "colab": {
          "base_uri": "https://localhost:8080/",
          "height": 34
        }
      },
      "source": [
        "model = LotkaVolteraTrainable(a, b, c, d)\n",
        "model.load_weights('model_weights/ckpt')"
      ],
      "execution_count": 31,
      "outputs": [
        {
          "output_type": "execute_result",
          "data": {
            "text/plain": [
              "<tensorflow.python.training.tracking.util.CheckpointLoadStatus at 0x7fccbac76c18>"
            ]
          },
          "metadata": {
            "tags": []
          },
          "execution_count": 31
        }
      ]
    },
    {
      "cell_type": "markdown",
      "metadata": {
        "id": "XtpdC7y4PZKF",
        "colab_type": "text"
      },
      "source": [
        "# Lets interpolate with our approximate universal ODE !\n",
        "\n",
        "With a trained Neural ODE that appxoximates the Lotka Voltera system with just 30 samples, lets interpolate within the same timeframe to get a fine solution to the coarse approximate."
      ]
    },
    {
      "cell_type": "code",
      "metadata": {
        "id": "OsA1wxZIpLXf",
        "colab_type": "code",
        "outputId": "6fc3e0a6-7d9a-4332-d6c4-4bff35484b62",
        "colab": {
          "base_uri": "https://localhost:8080/",
          "height": 50
        }
      },
      "source": [
        "%%time\n",
        "\n",
        "t_eval = tf.linspace(0., 2, num=1000)  # Re-evaluate for just 2 seconds of input, but 1000 timesteps\n",
        "\n",
        "with tf.device(device):\n",
        "    model_results = odeint(model, initial_states, t_eval)\n",
        "    real_results = odeint(LotkaVoltera(a, b, c, d), initial_states, t_eval)"
      ],
      "execution_count": 33,
      "outputs": [
        {
          "output_type": "stream",
          "text": [
            "CPU times: user 1.87 s, sys: 18.2 ms, total: 1.89 s\n",
            "Wall time: 1.86 s\n"
          ],
          "name": "stdout"
        }
      ]
    },
    {
      "cell_type": "markdown",
      "metadata": {
        "id": "fS5zRscsP66o",
        "colab_type": "text"
      },
      "source": [
        "# Plot the ODE approximation !"
      ]
    },
    {
      "cell_type": "code",
      "metadata": {
        "id": "Q2xw2uOmzkOF",
        "colab_type": "code",
        "outputId": "f105111b-3c8e-4626-d920-744a277f90f1",
        "colab": {
          "base_uri": "https://localhost:8080/",
          "height": 288
        }
      },
      "source": [
        "plot_results(t_eval, real_results, labels=['Rabbit_real', 'Fox_real'])\n",
        "plot_results(t_eval, model_results, labels=['Rabbit_model', 'Fox_model'])"
      ],
      "execution_count": 34,
      "outputs": [
        {
          "output_type": "display_data",
          "data": {
            "image/png": "[encoded data removed]",
            "text/plain": [
              "<Figure size 460.8x316.8 with 1 Axes>"
            ]
          },
          "metadata": {
            "tags": []
          }
        }
      ]
    },
    {
      "cell_type": "markdown",
      "metadata": {
        "id": "UrkHnUmRQBSL",
        "colab_type": "text"
      },
      "source": [
        "# Lets try and obtain the underlying equations of this system"
      ]
    },
    {
      "cell_type": "code",
      "metadata": {
        "id": "M_erg_eulXfA",
        "colab_type": "code",
        "colab": {}
      },
      "source": [
        "real_results_np = real_results.numpy()\n",
        "model_preds_np = model_results.numpy()\n",
        "t_eval_np = t_eval.numpy()"
      ],
      "execution_count": 0,
      "outputs": []
    },
    {
      "cell_type": "code",
      "metadata": {
        "id": "1tr1mHnPljab",
        "colab_type": "code",
        "colab": {}
      },
      "source": [
        "from pysindy import SINDy\n",
        "from pysindy import SR3\n",
        "from pysindy.feature_library.polynomial_library import PolynomialLibrary\n",
        "\n",
        "# Import the nice optimizer for Lasso regression !\n",
        "from tfdiffeq.sindy_utils import STRRidge"
      ],
      "execution_count": 0,
      "outputs": []
    },
    {
      "cell_type": "markdown",
      "metadata": {
        "id": "UhoOsm-aQarS",
        "colab_type": "text"
      },
      "source": [
        "# Optimize hyper parameters of SRTRidge and the Polynomial Library"
      ]
    },
    {
      "cell_type": "code",
      "metadata": {
        "id": "9-e5B3mPTxN4",
        "colab_type": "code",
        "colab": {}
      },
      "source": [
        "# sindy_optm = SRTRidge(threshold=0.5, alpha=1.0)\n",
        "sindy_optm = SR3(threshold=0.1, nu=1.0, max_iter=100)\n",
        "sindy_library = PolynomialLibrary(degree=10, include_interaction=True,  interaction_only=True)"
      ],
      "execution_count": 0,
      "outputs": []
    },
    {
      "cell_type": "markdown",
      "metadata": {
        "id": "oZQeATEAQjEW",
        "colab_type": "text"
      },
      "source": [
        "# Lets fit the SInDy model !\n",
        "\n",
        "SInDy is short for \"Sparse Identification of Non-linear Dynamical Systems\" from the paper [Discovering governing equations from data by sparse identification of nonlinear dynamical systems](https://www.pnas.org/content/113/15/3932)"
      ]
    },
    {
      "cell_type": "code",
      "metadata": {
        "id": "1AaQQNHYRjW8",
        "colab_type": "code",
        "outputId": "f270c885-5b2e-4dfd-b6ab-81421242357a",
        "colab": {
          "base_uri": "https://localhost:8080/",
          "height": 168
        }
      },
      "source": [
        "sindy_model = SINDy(optimizer=sindy_optm, feature_library=sindy_library, discrete_time=False)\n",
        "sindy_model.fit(model_preds_np, t_eval_np)"
      ],
      "execution_count": 38,
      "outputs": [
        {
          "output_type": "execute_result",
          "data": {
            "text/plain": [
              "SINDy(differentiation_method=<pysindy.differentiation.finite_difference.FiniteDifference object at 0x7fccc6eedc88>,\n",
              "      discrete_time=False,\n",
              "      feature_library=PolynomialLibrary(degree=10, include_bias=True,\n",
              "                                        include_interaction=True,\n",
              "                                        interaction_only=True, order='C'),\n",
              "      feature_names=['x0', 'x1'], n_jobs=1,\n",
              "      optimizer=SR3(copy_X=True, fit_intercept=False, max_iter=100,\n",
              "                    normalize=False, nu=1.0, threshold=0.1, thresholder='l0',\n",
              "                    tol=1e-05))"
            ]
          },
          "metadata": {
            "tags": []
          },
          "execution_count": 38
        }
      ]
    },
    {
      "cell_type": "markdown",
      "metadata": {
        "id": "Ha5dtT5ARD2X",
        "colab_type": "text"
      },
      "source": [
        "# Lets compare with the original equations\n",
        "\n",
        ">$\\frac{\\partial R}{\\partial T} = aR - bRF \\\\ \\frac{\\partial F}{\\partial T} = -cF + dRF$\n",
        "\n",
        "Recall, $a=1.5$, $b=1$, $c=3.0$, $d=1$\n",
        "\n",
        "We substitute $bRF$ with $U_1(R, F)$ in $\\frac{\\partial R}{\\partial T}$.\n",
        "\n",
        "We substitute $bRF$ with $U_2(R, F)$ in $\\frac{\\partial F}{\\partial T}$.\n",
        "\n",
        "--------\n",
        "\n",
        "We compare the above two equations with the one printed below.\n",
        "\n",
        "We get $a'=1.225$ which is quite far off from $a=1.5$, $c'=3.031$, close to the original $c=3.0$.\n",
        "\n",
        "The equation below approximates $b'=0.838$, far from the $b=1$ we expect. $d'=0.952$ is a closer approximate to our original $d=1$.\n"
      ]
    },
    {
      "cell_type": "code",
      "metadata": {
        "id": "2cynYciQSHAu",
        "colab_type": "code",
        "outputId": "48d52b34-aee5-41d0-da85-9221e0843e62",
        "colab": {
          "base_uri": "https://localhost:8080/",
          "height": 50
        }
      },
      "source": [
        "sindy_model.print()"
      ],
      "execution_count": 39,
      "outputs": [
        {
          "output_type": "stream",
          "text": [
            "x0' = 1.498 x0 + -0.997 x0 x1\n",
            "x1' = -2.993 x1 + 0.999 x0 x1\n"
          ],
          "name": "stdout"
        }
      ]
    },
    {
      "cell_type": "code",
      "metadata": {
        "id": "_QJOTM3ESBWf",
        "colab_type": "code",
        "outputId": "10b4d5d0-167f-4564-9dae-a697623105f4",
        "colab": {
          "base_uri": "https://localhost:8080/",
          "height": 50
        }
      },
      "source": [
        "sindy_model.coefficients()"
      ],
      "execution_count": 40,
      "outputs": [
        {
          "output_type": "execute_result",
          "data": {
            "text/plain": [
              "array([[ 0.        ,  1.49801949,  0.        , -0.99657202],\n",
              "       [ 0.        ,  0.        , -2.99258126,  0.99857371]])"
            ]
          },
          "metadata": {
            "tags": []
          },
          "execution_count": 40
        }
      ]
    },
    {
      "cell_type": "code",
      "metadata": {
        "id": "hImAMyPXSIMV",
        "colab_type": "code",
        "outputId": "d48f42a3-df59-4a86-898d-144f41583ab8",
        "colab": {
          "base_uri": "https://localhost:8080/",
          "height": 34
        }
      },
      "source": [
        "sindy_model.equations()"
      ],
      "execution_count": 41,
      "outputs": [
        {
          "output_type": "execute_result",
          "data": {
            "text/plain": [
              "['1.498 x0 + -0.997 x0 x1', '-2.993 x1 + 0.999 x0 x1']"
            ]
          },
          "metadata": {
            "tags": []
          },
          "execution_count": 41
        }
      ]
    },
    {
      "cell_type": "markdown",
      "metadata": {
        "id": "ZPgviQUyTNpp",
        "colab_type": "text"
      },
      "source": [
        "# Compute the $R^2$ score "
      ]
    },
    {
      "cell_type": "code",
      "metadata": {
        "id": "I2nPkj4eTDX9",
        "colab_type": "code",
        "outputId": "865fdc11-da87-450d-a7f4-0795f3efb108",
        "colab": {
          "base_uri": "https://localhost:8080/",
          "height": 34
        }
      },
      "source": [
        "sindy_model.score(model_preds_np, t_eval_np)  # "
      ],
      "execution_count": 42,
      "outputs": [
        {
          "output_type": "execute_result",
          "data": {
            "text/plain": [
              "0.9999294566666135"
            ]
          },
          "metadata": {
            "tags": []
          },
          "execution_count": 42
        }
      ]
    },
    {
      "cell_type": "markdown",
      "metadata": {
        "id": "agq0PpESS_Za",
        "colab_type": "text"
      },
      "source": [
        "# Finding the correct coefficients for the model\n",
        "\n",
        "We have the ode framework components which correspond to the neural network modules, but we cant be sure that the parameters found are correctly found by SInDy.\n",
        "\n",
        "We can refit the model (but now replacing correct components and removing the corresponding neural network component), and try to estimate the parameters from the train set."
      ]
    },
    {
      "cell_type": "code",
      "metadata": {
        "id": "GSNxY1f6Tone",
        "colab_type": "code",
        "colab": {}
      },
      "source": [
        "class LotkaVolteraParameters(tf.keras.Model):\n",
        "  \n",
        "  def __init__(self, **kwargs):\n",
        "    super().__init__(**kwargs)\n",
        "    \n",
        "    # Can also initialize with the values found above for much faster convergence !\n",
        "    self.parameters = tf.Variable(tf.random.uniform(shape=[4], dtype=tf.float64))\n",
        "  \n",
        "  @tf.function\n",
        "  def call(self, t, y):\n",
        "    # y = [R, F]\n",
        "    r, f = tf.unstack(y)\n",
        "\n",
        "    params = tf.nn.relu(self.parameters)\n",
        "    a, b, c, d = tf.unstack(params)\n",
        "    \n",
        "    dR_dT = a * r - b * r * f\n",
        "    dF_dT = -c * f + d * r * f\n",
        "    \n",
        "    return tf.stack([dR_dT, dF_dT])"
      ],
      "execution_count": 0,
      "outputs": []
    },
    {
      "cell_type": "code",
      "metadata": {
        "id": "7CnZSKYSUgGp",
        "colab_type": "code",
        "colab": {}
      },
      "source": [
        "t_train = tf.linspace(0., 3., num=30)  # Train for just 3 seconds of input\n",
        "initial_states_train = tf.convert_to_tensor([1, 1], dtype=tf.float64)\n",
        "\n",
        "epochs = 100\n",
        "initial_learning_rate = 0.1\n",
        "decay_steps = 100\n",
        "decay_rate = 0.5"
      ],
      "execution_count": 0,
      "outputs": []
    },
    {
      "cell_type": "code",
      "metadata": {
        "id": "asxNmXqFWZyn",
        "colab_type": "code",
        "colab": {
          "base_uri": "https://localhost:8080/",
          "height": 1000
        },
        "outputId": "c81f6c9f-ce1d-4cfa-a3ca-1cbadfc41dc4"
      },
      "source": [
        "%%time\n",
        "\n",
        "with tf.device(device):\n",
        "  model = LotkaVolteraParameters()\n",
        "\n",
        "  learning_rate = tf.keras.optimizers.schedules.ExponentialDecay(\n",
        "    initial_learning_rate, decay_steps, decay_rate, staircase=False,\n",
        "  )\n",
        "\n",
        "  optimizer = tf.keras.optimizers.Adam(learning_rate)\n",
        "\n",
        "  print(\"Computing ground truth...\")\n",
        "  y_real = odeint(LotkaVoltera(a, b, c, d), initial_states_train, t_train)\n",
        "\n",
        "  print(\"Ground truth shape :\", y_real.shape)\n",
        "\n",
        "  for epoch in range(epochs):\n",
        "    print(f\"Epoch {epoch + 1}\")\n",
        "\n",
        "    with tf.GradientTape() as tape:\n",
        "      preds = odeint(model, initial_states_train, t_train)\n",
        "      loss = tf.reduce_mean(tf.square(y_real - preds), axis=1)\n",
        "\n",
        "    grads = tape.gradient(loss, model.trainable_variables)\n",
        "    optimizer.apply_gradients(zip(grads, model.trainable_variables))\n",
        "\n",
        "    print(\"Loss :\", loss.numpy().mean())\n",
        "    print(\"LR :\", learning_rate(optimizer.iterations).numpy())\n",
        "    print()"
      ],
      "execution_count": 46,
      "outputs": [
        {
          "output_type": "stream",
          "text": [
            "Computing ground truth...\n",
            "Ground truth shape : (30, 2)\n",
            "Epoch 1\n",
            "Loss : 5.717302072893498\n",
            "LR : 0.09930925\n",
            "\n",
            "Epoch 2\n",
            "Loss : 4.347992738804728\n",
            "LR : 0.09862327\n",
            "\n",
            "Epoch 3\n",
            "Loss : 4.493248006193431\n",
            "LR : 0.09794203\n",
            "\n",
            "Epoch 4\n",
            "Loss : 4.578560587704981\n",
            "LR : 0.0972655\n",
            "\n",
            "Epoch 5\n",
            "Loss : 4.466186002428844\n",
            "LR : 0.09659363\n",
            "\n",
            "Epoch 6\n",
            "Loss : 4.187422292189168\n",
            "LR : 0.09592641\n",
            "\n",
            "Epoch 7\n",
            "Loss : 3.7893133392036935\n",
            "LR : 0.0952638\n",
            "\n",
            "Epoch 8\n",
            "Loss : 3.3820840155116394\n",
            "LR : 0.094605766\n",
            "\n",
            "Epoch 9\n",
            "Loss : 3.2648067654945034\n",
            "LR : 0.093952276\n",
            "\n",
            "Epoch 10\n",
            "Loss : 3.039067314640337\n",
            "LR : 0.0933033\n",
            "\n",
            "Epoch 11\n",
            "Loss : 2.854700700093036\n",
            "LR : 0.09265881\n",
            "\n",
            "Epoch 12\n",
            "Loss : 3.1381763485407967\n",
            "LR : 0.09201877\n",
            "\n",
            "Epoch 13\n",
            "Loss : 3.2745678096419035\n",
            "LR : 0.09138315\n",
            "\n",
            "Epoch 14\n",
            "Loss : 3.179905369315509\n",
            "LR : 0.090751916\n",
            "\n",
            "Epoch 15\n",
            "Loss : 2.980944740199846\n",
            "LR : 0.09012505\n",
            "\n",
            "Epoch 16\n",
            "Loss : 2.784257268324426\n",
            "LR : 0.089502506\n",
            "\n",
            "Epoch 17\n",
            "Loss : 2.6649115159445693\n",
            "LR : 0.08888427\n",
            "\n",
            "Epoch 18\n",
            "Loss : 2.681516035211096\n",
            "LR : 0.0882703\n",
            "\n",
            "Epoch 19\n",
            "Loss : 2.799089255908294\n",
            "LR : 0.08766057\n",
            "\n",
            "Epoch 20\n",
            "Loss : 2.8347866192271463\n",
            "LR : 0.08705506\n",
            "\n",
            "Epoch 21\n",
            "Loss : 2.71337933258291\n",
            "LR : 0.08645373\n",
            "\n",
            "Epoch 22\n",
            "Loss : 2.5578757913588723\n",
            "LR : 0.08585655\n",
            "\n",
            "Epoch 23\n",
            "Loss : 2.4535252859561427\n",
            "LR : 0.08526349\n",
            "\n",
            "Epoch 24\n",
            "Loss : 2.40528050121024\n",
            "LR : 0.08467453\n",
            "\n",
            "Epoch 25\n",
            "Loss : 2.3921808918471226\n",
            "LR : 0.084089644\n",
            "\n",
            "Epoch 26\n",
            "Loss : 2.3760471106851124\n",
            "LR : 0.08350879\n",
            "\n",
            "Epoch 27\n",
            "Loss : 2.314771708283425\n",
            "LR : 0.08293196\n",
            "\n",
            "Epoch 28\n",
            "Loss : 2.2150555434932158\n",
            "LR : 0.0823591\n",
            "\n",
            "Epoch 29\n",
            "Loss : 2.1302752397044196\n",
            "LR : 0.08179021\n",
            "\n",
            "Epoch 30\n",
            "Loss : 2.074170534027807\n",
            "LR : 0.08122524\n",
            "\n",
            "Epoch 31\n",
            "Loss : 2.016834876712371\n",
            "LR : 0.08066418\n",
            "\n",
            "Epoch 32\n",
            "Loss : 1.948539125833666\n",
            "LR : 0.08010699\n",
            "\n",
            "Epoch 33\n",
            "Loss : 1.8769328266830003\n",
            "LR : 0.07955365\n",
            "\n",
            "Epoch 34\n",
            "Loss : 1.8043631755914213\n",
            "LR : 0.07900413\n",
            "\n",
            "Epoch 35\n",
            "Loss : 1.7293257796640014\n",
            "LR : 0.07845841\n",
            "\n",
            "Epoch 36\n",
            "Loss : 1.6517977769634618\n",
            "LR : 0.07791646\n",
            "\n",
            "Epoch 37\n",
            "Loss : 1.5708533106597693\n",
            "LR : 0.07737825\n",
            "\n",
            "Epoch 38\n",
            "Loss : 1.4831852945944666\n",
            "LR : 0.07684376\n",
            "\n",
            "Epoch 39\n",
            "Loss : 1.3911444127193995\n",
            "LR : 0.07631296\n",
            "\n",
            "Epoch 40\n",
            "Loss : 1.3067547888792985\n",
            "LR : 0.07578583\n",
            "\n",
            "Epoch 41\n",
            "Loss : 1.2367535116395065\n",
            "LR : 0.07526234\n",
            "\n",
            "Epoch 42\n",
            "Loss : 1.1710296766300108\n",
            "LR : 0.07474246\n",
            "\n",
            "Epoch 43\n",
            "Loss : 1.0953809012092215\n",
            "LR : 0.07422618\n",
            "\n",
            "Epoch 44\n",
            "Loss : 1.0085430034969631\n",
            "LR : 0.07371347\n",
            "\n",
            "Epoch 45\n",
            "Loss : 0.9216383487988937\n",
            "LR : 0.07320429\n",
            "\n",
            "Epoch 46\n",
            "Loss : 0.8452538494452433\n",
            "LR : 0.07269862\n",
            "\n",
            "Epoch 47\n",
            "Loss : 0.7796788782726769\n",
            "LR : 0.07219646\n",
            "\n",
            "Epoch 48\n",
            "Loss : 0.7177294901761633\n",
            "LR : 0.071697764\n",
            "\n",
            "Epoch 49\n",
            "Loss : 0.6557044635456984\n",
            "LR : 0.07120251\n",
            "\n",
            "Epoch 50\n",
            "Loss : 0.5972073123816782\n",
            "LR : 0.07071068\n",
            "\n",
            "Epoch 51\n",
            "Loss : 0.5462910096959217\n",
            "LR : 0.07022225\n",
            "\n",
            "Epoch 52\n",
            "Loss : 0.502290173872018\n",
            "LR : 0.06973719\n",
            "\n",
            "Epoch 53\n",
            "Loss : 0.4622942971665664\n",
            "LR : 0.06925548\n",
            "\n",
            "Epoch 54\n",
            "Loss : 0.42552206166097967\n",
            "LR : 0.06877709\n",
            "\n",
            "Epoch 55\n",
            "Loss : 0.3938728285534004\n",
            "LR : 0.06830201\n",
            "\n",
            "Epoch 56\n",
            "Loss : 0.3687464278713079\n",
            "LR : 0.06783022\n",
            "\n",
            "Epoch 57\n",
            "Loss : 0.34839906001007215\n",
            "LR : 0.067361675\n",
            "\n",
            "Epoch 58\n",
            "Loss : 0.32951948613857845\n",
            "LR : 0.06689638\n",
            "\n",
            "Epoch 59\n",
            "Loss : 0.3109146662141278\n",
            "LR : 0.066434294\n",
            "\n",
            "Epoch 60\n",
            "Loss : 0.2939563133788693\n",
            "LR : 0.06597539\n",
            "\n",
            "Epoch 61\n",
            "Loss : 0.27983118013803837\n",
            "LR : 0.06551967\n",
            "\n",
            "Epoch 62\n",
            "Loss : 0.2680529450498586\n",
            "LR : 0.0650671\n",
            "\n",
            "Epoch 63\n",
            "Loss : 0.25753856831709293\n",
            "LR : 0.06461764\n",
            "\n",
            "Epoch 64\n",
            "Loss : 0.2480060088174453\n",
            "LR : 0.0641713\n",
            "\n",
            "Epoch 65\n",
            "Loss : 0.23999682018255977\n",
            "LR : 0.063728034\n",
            "\n",
            "Epoch 66\n",
            "Loss : 0.23387805277587648\n",
            "LR : 0.06328783\n",
            "\n",
            "Epoch 67\n",
            "Loss : 0.22916260365515828\n",
            "LR : 0.06285067\n",
            "\n",
            "Epoch 68\n",
            "Loss : 0.22491171453832623\n",
            "LR : 0.06241653\n",
            "\n",
            "Epoch 69\n",
            "Loss : 0.2206297443967381\n",
            "LR : 0.061985385\n",
            "\n",
            "Epoch 70\n",
            "Loss : 0.21653194653432895\n",
            "LR : 0.061557222\n",
            "\n",
            "Epoch 71\n",
            "Loss : 0.2130105003941479\n",
            "LR : 0.061132014\n",
            "\n",
            "Epoch 72\n",
            "Loss : 0.21010219334504182\n",
            "LR : 0.060709745\n",
            "\n",
            "Epoch 73\n",
            "Loss : 0.20751991393609578\n",
            "LR : 0.060290392\n",
            "\n",
            "Epoch 74\n",
            "Loss : 0.2050227683134293\n",
            "LR : 0.059873935\n",
            "\n",
            "Epoch 75\n",
            "Loss : 0.20263249356292382\n",
            "LR : 0.059460353\n",
            "\n",
            "Epoch 76\n",
            "Loss : 0.20051473938712994\n",
            "LR : 0.059049636\n",
            "\n",
            "Epoch 77\n",
            "Loss : 0.1987250270401244\n",
            "LR : 0.05864175\n",
            "\n",
            "Epoch 78\n",
            "Loss : 0.1971122191298007\n",
            "LR : 0.058236685\n",
            "\n",
            "Epoch 79\n",
            "Loss : 0.19546229465937157\n",
            "LR : 0.057834413\n",
            "\n",
            "Epoch 80\n",
            "Loss : 0.19369514813678407\n",
            "LR : 0.057434916\n",
            "\n",
            "Epoch 81\n",
            "Loss : 0.19189889825023024\n",
            "LR : 0.057038188\n",
            "\n",
            "Epoch 82\n",
            "Loss : 0.19019887876102295\n",
            "LR : 0.056644198\n",
            "\n",
            "Epoch 83\n",
            "Loss : 0.18863066015858224\n",
            "LR : 0.056252927\n",
            "\n",
            "Epoch 84\n",
            "Loss : 0.18713658185657053\n",
            "LR : 0.05586436\n",
            "\n",
            "Epoch 85\n",
            "Loss : 0.18565004853077935\n",
            "LR : 0.055478472\n",
            "\n",
            "Epoch 86\n",
            "Loss : 0.18416027066095858\n",
            "LR : 0.055095255\n",
            "\n",
            "Epoch 87\n",
            "Loss : 0.18270214330622728\n",
            "LR : 0.054714687\n",
            "\n",
            "Epoch 88\n",
            "Loss : 0.18130054556139436\n",
            "LR : 0.054336745\n",
            "\n",
            "Epoch 89\n",
            "Loss : 0.17993541496985427\n",
            "LR : 0.053961415\n",
            "\n",
            "Epoch 90\n",
            "Loss : 0.17855943726358353\n",
            "LR : 0.053588677\n",
            "\n",
            "Epoch 91\n",
            "Loss : 0.17714293736340264\n",
            "LR : 0.05321851\n",
            "\n",
            "Epoch 92\n",
            "Loss : 0.17569776196828937\n",
            "LR : 0.052850902\n",
            "\n",
            "Epoch 93\n",
            "Loss : 0.17426053359638838\n",
            "LR : 0.052485835\n",
            "\n",
            "Epoch 94\n",
            "Loss : 0.1728580009069689\n",
            "LR : 0.05212329\n",
            "\n",
            "Epoch 95\n",
            "Loss : 0.1714888553211344\n",
            "LR : 0.051763248\n",
            "\n",
            "Epoch 96\n",
            "Loss : 0.17013343030563127\n",
            "LR : 0.051405694\n",
            "\n",
            "Epoch 97\n",
            "Loss : 0.16877551241732072\n",
            "LR : 0.051050603\n",
            "\n",
            "Epoch 98\n",
            "Loss : 0.16741445456427465\n",
            "LR : 0.05069797\n",
            "\n",
            "Epoch 99\n",
            "Loss : 0.1660600304606573\n",
            "LR : 0.050347775\n",
            "\n",
            "Epoch 100\n",
            "Loss : 0.16471930442461177\n",
            "LR : 0.05\n",
            "\n",
            "CPU times: user 1min 32s, sys: 1.74 s, total: 1min 33s\n",
            "Wall time: 1min 31s\n"
          ],
          "name": "stdout"
        }
      ]
    },
    {
      "cell_type": "code",
      "metadata": {
        "id": "EnGd-_uLYiCp",
        "colab_type": "code",
        "colab": {}
      },
      "source": [
        "tolerance = 1e-6\n",
        "bfgs_optimizer = BFGSOptimizer(max_iterations=50, tolerance=tolerance)"
      ],
      "execution_count": 0,
      "outputs": []
    },
    {
      "cell_type": "code",
      "metadata": {
        "id": "aOsUQZn8YiG_",
        "colab_type": "code",
        "colab": {}
      },
      "source": [
        "def loss_wrapper(model):\n",
        "  # Can use `adjoing_odeint` here as replacement for `adjoint_odeint`\n",
        "  preds = odeint(model, initial_states_train, t_train, atol=1e-6, rtol=1e-6)\n",
        "  loss = tf.reduce_mean(tf.square(y_real - preds))\n",
        "  return loss"
      ],
      "execution_count": 0,
      "outputs": []
    },
    {
      "cell_type": "code",
      "metadata": {
        "id": "NCaGXByCYiKv",
        "colab_type": "code",
        "colab": {
          "base_uri": "https://localhost:8080/",
          "height": 638
        },
        "outputId": "2264f9ba-6521-438b-b9a6-d5e755d156bb"
      },
      "source": [
        "model = bfgs_optimizer.minimize(loss_wrapper, model)"
      ],
      "execution_count": 49,
      "outputs": [
        {
          "output_type": "stream",
          "text": [
            "Iter: 1 loss: 0.16339081331797142\n",
            "Iter: 2 loss: 0.42135137174741033\n",
            "Iter: 3 loss: 0.16338256403758203\n",
            "Iter: 4 loss: 0.16174139462093182\n",
            "Iter: 5 loss: 4.442123394646555\n",
            "Iter: 6 loss: 0.15128574863156449\n",
            "Iter: 7 loss: 5.5109021247158827\n",
            "Iter: 8 loss: 0.10735225698894796\n",
            "Iter: 9 loss: 0.063764858834992777\n",
            "Iter: 10 loss: 1.4688228119899944\n",
            "Iter: 11 loss: 0.062569929263760427\n",
            "Iter: 12 loss: 0.025252838160213013\n",
            "Iter: 13 loss: 0.023671492619752085\n",
            "Iter: 14 loss: 0.010968825753576565\n",
            "Iter: 15 loss: 0.009786583676057144\n",
            "Iter: 16 loss: 0.0051013474332513679\n",
            "Iter: 17 loss: 0.13813414044491962\n",
            "Iter: 18 loss: 0.0050745868389263831\n",
            "Iter: 19 loss: 0.0015661806032238508\n",
            "Iter: 20 loss: 0.019729912288467884\n",
            "Iter: 21 loss: 0.0011869393402438922\n",
            "Iter: 22 loss: 0.00019384882407128557\n",
            "Iter: 23 loss: 0.00018881662830361873\n",
            "Iter: 24 loss: 5.7328423882149992e-05\n",
            "Iter: 25 loss: 0.00050302389891499931\n",
            "Iter: 26 loss: 2.271165662726388e-05\n",
            "Iter: 27 loss: 2.8482483120765409e-06\n",
            "Iter: 28 loss: 0.00021133229460738436\n",
            "Iter: 29 loss: 2.39469852301707e-06\n",
            "Iter: 30 loss: 1.3507479840190392e-07\n",
            "Iter: 31 loss: 2.0305838898896021e-05\n",
            "Iter: 32 loss: 2.4331093108511059e-08\n",
            "Iter: 33 loss: 3.4582776149755458e-11\n",
            "Iter: 34 loss: 3.4185214143375154e-11\n",
            "Iter: 35 loss: 2.7744848163375412e-11\n",
            "Iter: 36 loss: 1.2755952153250812e-10\n",
            "Iter: 37 loss: 2.7743808801474285e-11\n"
          ],
          "name": "stdout"
        }
      ]
    },
    {
      "cell_type": "markdown",
      "metadata": {
        "id": "h2JGIGK7aOi-",
        "colab_type": "text"
      },
      "source": [
        "## Lets print the learned parameters of this ODE"
      ]
    },
    {
      "cell_type": "code",
      "metadata": {
        "id": "OOSLwpc-aNSw",
        "colab_type": "code",
        "colab": {
          "base_uri": "https://localhost:8080/",
          "height": 84
        },
        "outputId": "95761f69-54ea-457c-971a-9c1a00e096ce"
      },
      "source": [
        "params = model.trainable_variables[0]\n",
        "params.numpy().tolist()"
      ],
      "execution_count": 50,
      "outputs": [
        {
          "output_type": "execute_result",
          "data": {
            "text/plain": [
              "[1.4999965409435712,\n",
              " 0.9999973141865347,\n",
              " 2.9999970191668344,\n",
              " 0.9999972908862224]"
            ]
          },
          "metadata": {
            "tags": []
          },
          "execution_count": 50
        }
      ]
    },
    {
      "cell_type": "markdown",
      "metadata": {
        "id": "scoYwBqEWrvc",
        "colab_type": "text"
      },
      "source": [
        "# Finally, lets extrapolate the derived ODE !"
      ]
    },
    {
      "cell_type": "code",
      "metadata": {
        "id": "BdluyouWWwgu",
        "colab_type": "code",
        "outputId": "0de186df-f400-417e-9f7f-db59c4d440b8",
        "colab": {
          "base_uri": "https://localhost:8080/",
          "height": 50
        }
      },
      "source": [
        "%%time\n",
        "\n",
        "a_dash = 1.4999965409435712\n",
        "b_dash = 0.9999973141865347\n",
        "c_dash = 2.9999970191668344\n",
        "d_dash = 0.9999972908862224\n",
        "\n",
        "t_extrapolate = tf.linspace(0., 10.0, num=1000)  # Train for just 3 seconds of input\n",
        "initial_states_extrapolate = tf.convert_to_tensor([1, 1], dtype=tf.float64)\n",
        "\n",
        "with tf.device(device):\n",
        "    extrapolation_model = LotkaVoltera(a_dash, b_dash, c_dash, d_dash)\n",
        "    extrapolated_results = odeint(extrapolation_model, initial_states_extrapolate, t_extrapolate)\n",
        "    real_results = odeint(LotkaVoltera(a, b, c, d), initial_states_extrapolate, t_extrapolate)"
      ],
      "execution_count": 51,
      "outputs": [
        {
          "output_type": "stream",
          "text": [
            "CPU times: user 4.57 s, sys: 100 ms, total: 4.67 s\n",
            "Wall time: 4.59 s\n"
          ],
          "name": "stdout"
        }
      ]
    },
    {
      "cell_type": "code",
      "metadata": {
        "id": "vwlHQDtRXnNj",
        "colab_type": "code",
        "outputId": "311cb777-0275-4581-a84e-8002d3cbf70b",
        "colab": {
          "base_uri": "https://localhost:8080/",
          "height": 288
        }
      },
      "source": [
        "plot_results(t_extrapolate, real_results, labels=['Rabbit_real', 'Fox_real'])\n",
        "plot_results(t_extrapolate, extrapolated_results, labels=['Rabbit_model', 'Fox_model'])"
      ],
      "execution_count": 52,
      "outputs": [
        {
          "output_type": "display_data",
          "data": {
            "image/png": "[encoded data removed]",
            "text/plain": [
              "<Figure size 460.8x316.8 with 1 Axes>"
            ]
          },
          "metadata": {
            "tags": []
          }
        }
      ]
    },
    {
      "cell_type": "code",
      "metadata": {
        "id": "UcNJfcW-YnGM",
        "colab_type": "code",
        "colab": {}
      },
      "source": [
        ""
      ],
      "execution_count": 0,
      "outputs": []
    }
  ]
}